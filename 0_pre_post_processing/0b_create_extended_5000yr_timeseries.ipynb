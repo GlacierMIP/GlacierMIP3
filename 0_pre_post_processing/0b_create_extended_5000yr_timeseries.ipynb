{
 "cells": [
  {
   "cell_type": "markdown",
   "id": "0474d87d",
   "metadata": {
    "tags": []
   },
   "source": [
    "## 0b - Extend the timeseries to 5000 years for every region\n",
    "\n",
    "Uses the scaled dataset to extend it to 5000 years everywhere. \n",
    "\n",
    "*this step has to happen after the notebook `0a_analysis_regional_model_dataset_merging_and_initial_state_comparison.ipynb`*. \n",
    "\n",
    "applied option: use the 101 last years and add them until the end of the timeseries. We use 101 years ecause that is more consistent with the rolling average of 101 years.\n",
    "\n",
    "\n",
    "creates `../data/GMIP3_reg_glacier_model_data/glacierMIP3_Feb12_2024_models_all_rgi_regions_sum_scaled_extended_repeat_last_101yrs.nc`\n",
    "- dataset useful for plotting timeseries or steady-state estimates\n",
    "\n",
    "---\n",
    "other options that we thought of, but did not apply at the end: do a fit to interpolate until 5000 years, but this is not so straightforward and most likely not necessary because the regions that run only until simulation year 2000 mostly reached steady-state until then. "
   ]
  },
  {
   "cell_type": "code",
   "execution_count": 3,
   "id": "304d2697",
   "metadata": {},
   "outputs": [],
   "source": [
    "DATE = 'Feb12_2024'\n",
    "# download it here https://cluster.klima.uni-bremen.de/~lschuster/glacierMIP3_analysis/glacierMIP3_Feb12_2024_models_all_rgi_regions_sum_scaled.nc\n",
    "# and change the path to your local path\n",
    "\n",
    "import xarray as xr\n",
    "import numpy as np\n",
    "import pandas as pd\n",
    "import os\n",
    "import glob\n",
    "import seaborn as sns\n",
    "import matplotlib.pyplot as plt\n",
    "from help_functions import pal_models, model_order, d_reg_num_name\n",
    "\n",
    "try:\n",
    "    #path_merged_runs_scaled = f'/home/www/lschuster/glacierMIP3_analysis/glacierMIP3_{DATE}_models_all_rgi_regions_sum_scaled.nc'\n",
    "    path_merged_runs_scaled = f'../data/GMIP3_reg_glacier_model_data/glacierMIP3_{DATE}_models_all_rgi_regions_sum_scaled.nc'\n",
    "    ds_reg_models = xr.open_dataset(path_merged_runs_scaled)\n",
    "\n",
    "except:\n",
    "    # add your local path... \n",
    "    path_merged_runs_scaled = f'/home/lilianschuster/Downloads/glacierMIP3_{DATE}_models_all_rgi_regions_sum_scaled.nc'\n",
    "    ds_reg_models = xr.open_dataset(path_merged_runs_scaled)\n",
    "\n",
    "fill_option = 'repeat_last_101yrs'"
   ]
  },
  {
   "cell_type": "markdown",
   "id": "85bb5f8f",
   "metadata": {},
   "source": [
    "## Extend by using the last 101 years (because of long-term decadal variability ...)"
   ]
  },
  {
   "cell_type": "code",
   "execution_count": 7,
   "id": "74e19f34",
   "metadata": {},
   "outputs": [
    {
     "name": "stdout",
     "output_type": "stream",
     "text": [
      "repeat_last_101yrs\n"
     ]
    }
   ],
   "source": [
    "import pymannkendall as mk\n",
    "\n",
    "# these regions should run until 5000 years:\n",
    "rgi_regs_5000 = ['01', '03', '04', '05', '06','07', '09', '17','19']        \n",
    "\n",
    "\n",
    "n_increasing = 0\n",
    "n_decreasing = 0\n",
    "n_no_trend = 0\n",
    "deltaV_l = []\n",
    "deltaV_l50 = []\n",
    "ds_reg_models_extend = ds_reg_models.copy()\n",
    "for gcm in np.arange(0,len(ds_reg_models_extend.gcm.values),1):\n",
    "    for period_scenario in np.arange(0, len(ds_reg_models_extend.period_scenario),1):\n",
    "        for m in np.arange(0, len(ds_reg_models_extend.model_author),1):\n",
    "\n",
    "            ds = ds_reg_models_extend.isel(model_author=m).isel(gcm=gcm).isel(period_scenario=period_scenario)\n",
    "            #print(ds)\n",
    "            for rgi_reg_id,rgi_reg in enumerate(ds.rgi_reg.values): \n",
    "                if np.all(np.isnan(ds.sel(rgi_reg =rgi_reg).volume_m3.values)) and np.all(np.isnan(ds.sel(rgi_reg =rgi_reg).area_m2.values)):\n",
    "                    # ok we do not have any regional data for that region, model_author, gcm, period_scenarios ... just keep the values np.NaN...\n",
    "                    pass\n",
    "                #elif rgi_reg in rgi_regs_5000:\n",
    "                #    assert not np.any(np.isnan(ds.sel(rgi_reg =rgi_reg).sel(simulation_year=slice(2001,5001)).volume_m3.values))\n",
    "                else:\n",
    "                    # check that all are not nan-values! -> then do not need to extend\n",
    "                    if not np.any(np.isnan(ds.sel(rgi_reg =rgi_reg).sel(simulation_year=slice(2001,5001)).volume_m3.values)):\n",
    "                        pass\n",
    "                    else:\n",
    "                        #try:\n",
    "                        # check that it is really always np.NaN values after simulation year 2000 for that region\n",
    "                        assert np.all(np.isnan(ds.sel(rgi_reg =rgi_reg).sel(simulation_year=slice(2001,5001)).volume_m3.values))\n",
    "                        # Huss has area 0 for some regions \n",
    "                        assert np.all(np.isnan(ds.sel(rgi_reg =rgi_reg).sel(simulation_year=slice(2001,5001)).area_m2.values)) or np.all(ds.sel(rgi_reg =rgi_reg).sel(simulation_year=slice(2001,5001)).area_m2.values==0)\n",
    "\n",
    "                        # fill them up with the last simulation year values \n",
    "                        # we fill that up that later \n",
    "                        #for y in np.arange(2001,5001):\n",
    "                        if fill_option == 'last_value':\n",
    "                            ds['volume_m3'].data[..., rgi_reg_id, 2001:] = ds.sel(rgi_reg =rgi_reg).sel(simulation_year=2000).volume_m3.values\n",
    "                            ds['area_m2'].data[..., rgi_reg_id, 2001:] = ds.sel(rgi_reg =rgi_reg).sel(simulation_year=2000).area_m2.values\n",
    "                        elif fill_option == 'repeat_last_21yrs':  # 21-yr period is repeated ~142.9 times to fill up the additional 3000yrs\n",
    "                            ds['volume_m3'].data[..., rgi_reg_id, 2001:] = np.tile(ds.sel(rgi_reg =rgi_reg).sel(simulation_year=slice(1980,2000)).volume_m3.values, 143)[:3000]\n",
    "                            ds['area_m2'].data[..., rgi_reg_id, 2001:] = np.tile(ds.sel(rgi_reg =rgi_reg).sel(simulation_year=slice(1980,2000)).area_m2.values, 143)[:3000]\n",
    "                        elif fill_option == 'repeat_last_101yrs':  # 101-yr period is repeated ~29.7 times to fill up the additional 3000yrs\n",
    "                            ds['volume_m3'].data[..., rgi_reg_id, 2001:] = np.tile(ds.sel(rgi_reg =rgi_reg).sel(simulation_year=slice(1900,2000)).volume_m3.values, 30)[:3000]\n",
    "                            ds['area_m2'].data[..., rgi_reg_id, 2001:] = np.tile(ds.sel(rgi_reg =rgi_reg).sel(simulation_year=slice(1900,2000)).area_m2.values, 30)[:3000]\n",
    "                        #print(gcm, period_scenario, ds_reg_models.isel(model_author=m).model_author.values, rgi_reg)\n",
    "\n",
    "                        #except:\n",
    "                        #    # ok some models did run over all regions for 5000 years\n",
    "                        #    print('runs for 5000 years: ' , ds_reg_models.isel(model_author=m).model_author.values, rgi_reg)\n",
    "                        #    pass\n",
    "\n",
    "                        dend = ds.sel(rgi_reg =rgi_reg).sel(simulation_year=slice(1901,2000)).volume_m3\n",
    "                        dendm = dend.mean(dim='simulation_year')\n",
    "                        dendm_e = ds.sel(rgi_reg =rgi_reg).sel(simulation_year=slice(1801,1900)).volume_m3.mean(dim='simulation_year')\n",
    "                        deltaV_l.append((dendm.values-dendm_e.values) / (ds.sel(rgi_reg =rgi_reg).volume_m3.sel(simulation_year=0).values))\n",
    "                        mk_output = mk.original_test(dend, alpha=0.01)\n",
    "                        if mk_output.trend =='no trend':\n",
    "                            n_no_trend +=1\n",
    "                        elif mk_output.trend =='decreasing':\n",
    "                            n_decreasing +=1\n",
    "                        elif mk_output.trend =='increasing':\n",
    "                            n_increasing +=1\n",
    "                        #    print(mk_output, gcm, period_scenario, ds_reg_models.isel(model_author=m).model_author.values, rgi_reg)\n",
    "\n",
    "                        dend50 = ds.sel(rgi_reg =rgi_reg).sel(simulation_year=slice(1951,2000)).volume_m3\n",
    "                        dendm50 = dend50.mean(dim='simulation_year')\n",
    "                        dendm_e50 = ds.sel(rgi_reg =rgi_reg).sel(simulation_year=slice(1901,1950)).volume_m3.mean(dim='simulation_year')\n",
    "                        deltaV_l50.append((dendm50.values-dendm_e50.values) / (ds.sel(rgi_reg =rgi_reg).volume_m3.sel(simulation_year=0).values))\n",
    "\n",
    "            assert np.shape(ds_reg_models_extend['volume_m3'][m,gcm,:,:,period_scenario])== (19,5001)\n",
    "            # add it to the big file \n",
    "            ds_reg_models_extend['volume_m3'].data[m,gcm,:,:,period_scenario] = ds['volume_m3'].values\n",
    "            ds_reg_models_extend['area_m2'].data[m,gcm,:,:,period_scenario] = ds['area_m2'].values\n",
    "\n",
    "ds_reg_models_extend.coords['extend_option'] = fill_option\n",
    "\n",
    "# OGGM_v16 gave global estimates -> after extending the timeseries, there should be no NaN values left \n",
    "assert not np.any(np.isnan(ds_reg_models_extend.volume_m3.sel(model_author='OGGM_v16').values))\n",
    "\n",
    "if fill_option == 'repeat_last_21yrs': \n",
    "    # check if values are all equal to the last 20 yr timeseries for a RGI region where there are no \n",
    "    for j in np.arange(0,3000,21):\n",
    "        np.testing.assert_allclose(ds_reg_models_extend.volume_m3.sel(model_author='OGGM_v16').sel(rgi_reg='02').sel(simulation_year = slice(1980,2000)).isel(gcm=0).isel(period_scenario=0),\n",
    "                                   ds_reg_models_extend.volume_m3.sel(model_author='OGGM_v16').sel(rgi_reg='02').sel(simulation_year = slice(2001+j,2021+j)).isel(gcm=0).isel(period_scenario=0))\n",
    "\n",
    "    for j in np.arange(0,3000,21):\n",
    "        np.testing.assert_allclose(ds_reg_models_extend.volume_m3.sel(model_author='PyGEM-OGGM_v13').sel(rgi_reg='02').sel(simulation_year = slice(1980,2000)).isel(gcm=0).isel(period_scenario=0),\n",
    "                                   ds_reg_models_extend.volume_m3.sel(model_author='PyGEM-OGGM_v13').sel(rgi_reg='02').sel(simulation_year = slice(2001+j,2021+j)).isel(gcm=0).isel(period_scenario=0))\n",
    "elif fill_option == 'repeat_last_101yrs':\n",
    "    print(fill_option)\n",
    "     # check if values are all equal to the last 101 yr timeseries for a RGI region where there are no \n",
    "    for j in np.arange(0,2902,101):\n",
    "        np.testing.assert_allclose(ds_reg_models_extend.volume_m3.sel(model_author='OGGM_v16').sel(rgi_reg='02').sel(simulation_year = slice(1900,2000)).isel(gcm=0).isel(period_scenario=0),\n",
    "                                   ds_reg_models_extend.volume_m3.sel(model_author='OGGM_v16').sel(rgi_reg='02').sel(simulation_year = slice(2001+j,2101+j)).isel(gcm=0).isel(period_scenario=0)\n",
    "                                  )\n",
    "    \n",
    "    np.testing.assert_allclose(ds_reg_models_extend.volume_m3.sel(model_author='OGGM_v16').sel(rgi_reg='02').sel(simulation_year = slice(1900,2000)).isel(gcm=0).isel(period_scenario=0).mean(dim='simulation_year'),\n",
    "                                   ds_reg_models_extend.volume_m3.sel(model_author='OGGM_v16').sel(rgi_reg='02').sel(simulation_year = slice(4900,5000)).isel(gcm=0).isel(period_scenario=0).mean(dim='simulation_year'),\n",
    "                               rtol=1e-3\n",
    "                                  )\n",
    "    for j in np.arange(0,2902,101):\n",
    "        np.testing.assert_allclose(ds_reg_models_extend.volume_m3.sel(model_author='PyGEM-OGGM_v13').sel(rgi_reg='02').sel(simulation_year = slice(1900,2000)).isel(gcm=0).isel(period_scenario=0),\n",
    "                                   ds_reg_models_extend.volume_m3.sel(model_author='PyGEM-OGGM_v13').sel(rgi_reg='02').sel(simulation_year = slice(2001+j,2101+j)).isel(gcm=0).isel(period_scenario=0)\n",
    "                                  )\n",
    "    np.testing.assert_allclose(ds_reg_models_extend.volume_m3.sel(model_author='PyGEM-OGGM_v13').sel(rgi_reg='02').sel(simulation_year = slice(1900,2000)).isel(gcm=0).isel(period_scenario=0).mean(dim='simulation_year'),\n",
    "                                   ds_reg_models_extend.volume_m3.sel(model_author='PyGEM-OGGM_v13').sel(rgi_reg='02').sel(simulation_year = slice(4900,5000)).isel(gcm=0).isel(period_scenario=0).mean(dim='simulation_year'),\n",
    "                               rtol=1e-3\n",
    "                                  )\n",
    "    \n",
    "ds_reg_models_extend.attrs['description'] = 'Scaled and extended regionally aggregated glacier model projections from GlacierMIP3 (volume and area).'\n",
    "ds_reg_models_extend.attrs['postprocessing_phase'] = ('Volume scaled to match regional Farinotti et al. (2019) multi-model glacier volume estimate at the beginning, '\n",
    "                                                'area scaled to match the RGI6.0 area at the beginning. Scaling done for each climate scenario and model time '\n",
    "                                               'series (experiment) individually. For most experiments, scaling was not necessary as models aimed to match regional '\n",
    "                                               'volume/area, and upscaled already internally. In addition, where necessary, the experiments are extended from the year '\n",
    "                                               '2000 to the year 5000. More in Methods and Supplementary Data Table 2 of Zekollari and Schuster et al., submitted') \n",
    "ds_reg_models_extend.attrs['dataset_version'] = 'v1.0'\n",
    "ds_reg_models_extend.attrs['source'] = 'Data from Glacier Model Intercomparison Project Phase 3 (GlacierMIP3), https://doi.org/10.5281/zenodo.14045269'\n",
    "ds_reg_models_extend.attrs['contact'] = 'lilian.schuster@uibk.ac.at, harry.zekollari@vub.be' \n",
    "\n",
    "try:\n",
    "    ds_reg_models_extend.to_netcdf(f'/home/www/lschuster/glacierMIP3_analysis/glacierMIP3_{DATE}_models_all_rgi_regions_sum_scaled_extended_{fill_option}.nc')\n",
    "    ds_reg_models_extend.to_netcdf(f'../data/GMIP3_reg_glacier_model_data/glacierMIP3_{DATE}_models_all_rgi_regions_sum_scaled_extended_{fill_option}.nc')\n",
    "except:\n",
    "    ds_reg_models_extend.to_netcdf(f'/home/lilianschuster/Downloads/glacierMIP3_{DATE}_models_all_rgi_regions_sum_scaled_extended_{fill_option}.nc')"
   ]
  },
  {
   "cell_type": "code",
   "execution_count": 8,
   "id": "74b23e85-e257-47cd-a96b-1c5699b22564",
   "metadata": {},
   "outputs": [
    {
     "data": {
      "text/plain": [
       "(2239, 389, 252)"
      ]
     },
     "execution_count": 8,
     "metadata": {},
     "output_type": "execute_result"
    }
   ],
   "source": [
    "# there are still a few simulations with signigicant trends, but it doesn't make sense to correct here\n",
    "# as anyways climate is not stable over such long periods even without antropogenic changes...\n",
    "n_no_trend, n_decreasing, n_increasing"
   ]
  },
  {
   "cell_type": "code",
   "execution_count": 10,
   "id": "83f56e4b-1ccc-4f9d-b612-0aa007d6a9f3",
   "metadata": {},
   "outputs": [
    {
     "data": {
      "text/plain": [
       "0.01875"
      ]
     },
     "execution_count": 10,
     "metadata": {},
     "output_type": "execute_result"
    }
   ],
   "source": [
    "# ratio of experiments and models going for 2000 years which are not stabilising after ~2000 years \n",
    "len(np.array(deltaV_l)[list(np.abs(deltaV_l)>0.01)])/len(deltaV_l)"
   ]
  },
  {
   "cell_type": "code",
   "execution_count": null,
   "id": "6c605967-acba-43c4-b428-6c66346768f5",
   "metadata": {},
   "outputs": [],
   "source": []
  },
  {
   "cell_type": "markdown",
   "id": "bc2389c4",
   "metadata": {},
   "source": [
    "### Using a fit instead as extension?\n",
    "- this is not so straightforward, as most fits are not working very well (and we would need to find one that works on every simulation). Therefore, we decided to not use that approach. If you are interested, you can still have a look into the code below. "
   ]
  },
  {
   "cell_type": "code",
   "execution_count": 6,
   "id": "45c1da68",
   "metadata": {},
   "outputs": [
    {
     "name": "stderr",
     "output_type": "stream",
     "text": [
      "/tmp/ipykernel_671031/2453980801.py:2: RuntimeWarning: divide by zero encountered in log\n",
      "  plt.plot(np.log(x))\n"
     ]
    },
    {
     "data": {
      "text/plain": [
       "[<matplotlib.lines.Line2D at 0x7f5b34279210>]"
      ]
     },
     "execution_count": 6,
     "metadata": {},
     "output_type": "execute_result"
    },
    {
     "data": {
      "image/png": "[encoded data removed]",
      "text/plain": [
       "<Figure size 640x480 with 1 Axes>"
      ]
     },
     "metadata": {},
     "output_type": "display_data"
    }
   ],
   "source": [
    "x=np.arange(0,1000,1)\n",
    "plt.plot(np.log(x))"
   ]
  },
  {
   "cell_type": "code",
   "execution_count": 7,
   "id": "bf40ece9",
   "metadata": {},
   "outputs": [
    {
     "data": {
      "text/plain": [
       "0.12705882352941175"
      ]
     },
     "execution_count": 7,
     "metadata": {},
     "output_type": "execute_result"
    }
   ],
   "source": [
    "n_total = n_increasing+ n_increasing+n_no_trend\n",
    "n_increasing/n_total"
   ]
  },
  {
   "cell_type": "code",
   "execution_count": 8,
   "id": "c80ee121",
   "metadata": {},
   "outputs": [
    {
     "data": {
      "text/plain": [
       "0.15899159663865547"
      ]
     },
     "execution_count": 8,
     "metadata": {},
     "output_type": "execute_result"
    }
   ],
   "source": [
    "n_decreasing/n_total"
   ]
  },
  {
   "cell_type": "code",
   "execution_count": null,
   "id": "5d41ff02",
   "metadata": {},
   "outputs": [],
   "source": []
  },
  {
   "cell_type": "code",
   "execution_count": 9,
   "id": "12ef65c9",
   "metadata": {},
   "outputs": [
    {
     "data": {
      "text/plain": [
       "Mann_Kendall_Test(trend='increasing', h=True, p=2.08909639254351e-06, z=4.7446088308081515, Tau=0.3203960396039604, s=1618.0, var_s=116150.0, slope=300303703.2010944, intercept=4719902094583.945)"
      ]
     },
     "execution_count": 9,
     "metadata": {},
     "output_type": "execute_result"
    }
   ],
   "source": [
    "dend = ds_reg_models_extend.volume_m3.sel(model_author='OGGM_v16').sel(rgi_reg='13').sel(simulation_year = slice(1900,2000)).isel(gcm=0).isel(period_scenario=0)\n",
    "dall = ds_reg_models_extend.volume_m3.sel(model_author='OGGM_v16').sel(rgi_reg='13').sel(simulation_year = slice(0,2000)).isel(gcm=0).isel(period_scenario=0)\n",
    "mk_output = mk.original_test(dend, alpha=0.01)\n",
    "mk_output"
   ]
  },
  {
   "cell_type": "code",
   "execution_count": 98,
   "id": "64cc6e1d",
   "metadata": {},
   "outputs": [],
   "source": [
    "import scipy"
   ]
  },
  {
   "cell_type": "code",
   "execution_count": null,
   "id": "ebfa9d8b-f72c-47cc-bbe3-eaef7fe9c4e7",
   "metadata": {},
   "outputs": [],
   "source": [
    "import pymannkendall as mk\n",
    "\n",
    "def func(x, a, b,c,d,e): # x-shifted log\n",
    "    return (a*np.exp(-b*x**d)+c)/e\n",
    "\n",
    "from scipy.optimize import curve_fit\n",
    "\n",
    "# these regions should run until 5000 years:\n",
    "rgi_regs_5000 = ['01', '03', '04', '05', '06','07', '09', '17','19']        \n",
    "# expand the rgi regions that only run until 2000 by using the last simulated year\n",
    "n_increasing = 0\n",
    "n_decreasing = 0\n",
    "n_no_trend = 0\n",
    "fill_option = 'fit'\n",
    "\n",
    "ds_reg_models = xr.open_dataset(path_merged_runs_scaled)\n",
    "ds_reg_models_extend = ds_reg_models.copy()\n",
    "for gcm in np.arange(0,len(ds_reg_models_extend.gcm.values),1):\n",
    "    for period_scenario in np.arange(0, len(ds_reg_models_extend.period_scenario),1):\n",
    "        for m in np.arange(0, len(ds_reg_models_extend.model_author),1):\n",
    "        \n",
    "            ds = ds_reg_models_extend.isel(model_author=m).isel(gcm=gcm).isel(period_scenario=period_scenario)\n",
    "            #print(ds)\n",
    "            for rgi_reg_id,rgi_reg in enumerate(ds.rgi_reg.values): \n",
    "                if np.all(np.isnan(ds.sel(rgi_reg =rgi_reg).volume_m3.values)) and np.all(np.isnan(ds.sel(rgi_reg =rgi_reg).area_m2.values)):\n",
    "                    # ok we do not have any regional data for that region, model_author, gcm, period_scenarios ... just keep the values np.NaN...\n",
    "                    pass\n",
    "                #elif rgi_reg in rgi_regs_5000:\n",
    "                #    assert not np.any(np.isnan(ds.sel(rgi_reg =rgi_reg).sel(simulation_year=slice(2001,5001)).volume_m3.values))\n",
    "                else:\n",
    "                    # check that all are not nan-values! -> then do not need to extend\n",
    "                    if not np.any(np.isnan(ds.sel(rgi_reg =rgi_reg).sel(simulation_year=slice(2001,5001)).volume_m3.values)):\n",
    "                        pass\n",
    "                    else:\n",
    "                        #try:\n",
    "                        # check that it is really always np.NaN values after simulation year 2000 for that region\n",
    "                        assert np.all(np.isnan(ds.sel(rgi_reg =rgi_reg).sel(simulation_year=slice(2001,5001)).volume_m3.values))\n",
    "                        # Huss has area 0 for some regions \n",
    "                        assert np.all(np.isnan(ds.sel(rgi_reg =rgi_reg).sel(simulation_year=slice(2001,5001)).area_m2.values)) or np.all(ds.sel(rgi_reg =rgi_reg).sel(simulation_year=slice(2001,5001)).area_m2.values==0)\n",
    "\n",
    "                        # fill them up with the last simulation year values \n",
    "                        # we fill that up that later \n",
    "                        #for y in np.arange(2001,5001):\n",
    "                        if fill_option == 'last_value':\n",
    "                            ds['volume_m3'].data[..., rgi_reg_id, 2001:] = ds.sel(rgi_reg =rgi_reg).sel(simulation_year=2000).volume_m3.values\n",
    "                            ds['area_m2'].data[..., rgi_reg_id, 2001:] = ds.sel(rgi_reg =rgi_reg).sel(simulation_year=2000).area_m2.values\n",
    "                        elif fill_option == 'repeat_last_20yrs':  # 20-yr period is repeated 150 times to fill up the additional 3000yrs\n",
    "                            ds['volume_m3'].data[..., rgi_reg_id, 2001:] = np.tile(ds.sel(rgi_reg =rgi_reg).sel(simulation_year=slice(1981,2000)).volume_m3.values, 150)\n",
    "                            ds['area_m2'].data[..., rgi_reg_id, 2001:] = np.tile(ds.sel(rgi_reg =rgi_reg).sel(simulation_year=slice(1981,2000)).area_m2.values, 150)\n",
    "                        elif fill_option =='fit':\n",
    "                            # let's only take the years 1000 to 2000\n",
    "                            skip_yrs = 1000\n",
    "                            dall = ds.sel(rgi_reg =rgi_reg).sel(simulation_year=slice(skip_yrs,2000))\n",
    "                            #dall = ds_reg_models_extend.sel(model_author='OGGM_v16').sel(rgi_reg='13').sel(simulation_year = slice(0,2000)).isel(gcm=0).isel(period_scenario=0)\n",
    "\n",
    "                            ### volume\n",
    "                            p0 = [-dall.volume_m3.max(), 1, dall.volume_m3.max(),1,1]\n",
    "                            fittedParameters, pcov = curve_fit(func, dall.simulation_year.values, dall.volume_m3.values, p0 = p0)\n",
    "                            t = np.arange(skip_yrs,5001,1)\n",
    "                            d_fit_volume_m3 = func(t, *fittedParameters) \n",
    "                            np.testing.assert_allclose(dall.volume_m3.values[:2000-skip_yrs], \n",
    "                                                       d_fit_volume_m3[0:2000-skip_yrs], rtol=0.1)\n",
    "                            # area\n",
    "                            p0 = [-dall.area_m2.max(), 1, dall.area_m2.max(),1,1]\n",
    "                            fittedParameters, pcov = curve_fit(func, dall.simulation_year.values, dall.area_m2.values, p0 = p0)\n",
    "                            t = np.arange(skip_yrs,5001,1)\n",
    "                            d_fit_area_m2 = func(t, *fittedParameters) \n",
    "                            np.testing.assert_allclose(dall.area_m2.values[:2000-skip_yrs], \n",
    "                                                       d_fit_area_m2[:2000-skip_yrs], rtol=0.1)\n",
    "                            \n",
    "                            ds['volume_m3'].data[..., rgi_reg_id, 2001:] = d_fit_volume_m3[2000-skip_yrs+1:]\n",
    "                            ds['area_m2'].data[..., rgi_reg_id, 2001:] = d_fit_area_m2[2000-skip_yrs+1:]\n",
    "                        #print(gcm, period_scenario, ds_reg_models.isel(model_author=m).model_author.values, rgi_reg)\n",
    "\n",
    "                        #except:\n",
    "                        #    # ok some models did run over all regions for 5000 years\n",
    "                        #    print('runs for 5000 years: ' , ds_reg_models.isel(model_author=m).model_author.values, rgi_reg)\n",
    "                        #    pass\n",
    "                        \n",
    "                        dend = ds.sel(rgi_reg =rgi_reg).sel(simulation_year=slice(1900,2000)).volume_m3\n",
    "                        mk_output = mk.original_test(dend, alpha=0.01)\n",
    "                        if mk_output.trend =='no trend':\n",
    "                            n_no_trend +=1\n",
    "                        elif mk_output.trend =='decreasing':\n",
    "                            n_decreasing +=1\n",
    "                        elif mk_output.trend =='increasing':\n",
    "                            n_increasing +=1\n",
    "                        #    print(mk_output, gcm, period_scenario, ds_reg_models.isel(model_author=m).model_author.values, rgi_reg)\n",
    "\n",
    "            assert np.shape(ds_reg_models_extend['volume_m3'][m,gcm,:,:,period_scenario])== (19,5001)\n",
    "            # add it to the big file \n",
    "            ds_reg_models_extend['volume_m3'].data[m,gcm,:,:,period_scenario] = ds['volume_m3'].values\n",
    "            ds_reg_models_extend['area_m2'].data[m,gcm,:,:,period_scenario] = ds['area_m2'].values\n",
    "            \n",
    "ds_reg_models_extend.coords['extend_option'] = fill_option"
   ]
  },
  {
   "cell_type": "code",
   "execution_count": null,
   "id": "62d5d8b2",
   "metadata": {},
   "outputs": [],
   "source": []
  },
  {
   "cell_type": "markdown",
   "id": "0a52a140",
   "metadata": {},
   "source": [
    "**below you can see one of the issues**"
   ]
  },
  {
   "cell_type": "code",
   "execution_count": 313,
   "id": "f029d37a",
   "metadata": {},
   "outputs": [
    {
     "name": "stderr",
     "output_type": "stream",
     "text": [
      "/tmp/ipykernel_3102955/2645228258.py:4: RuntimeWarning: overflow encountered in power\n",
      "  return (a*np.exp(-b*x**d)+c)/e\n",
      "/tmp/ipykernel_3102955/2645228258.py:4: RuntimeWarning: overflow encountered in exp\n",
      "  return (a*np.exp(-b*x**d)+c)/e\n",
      "/home/users/lschuster/.local/lib/python3.10/site-packages/scipy/optimize/_minpack_py.py:881: OptimizeWarning: Covariance of the parameters could not be estimated\n",
      "  warnings.warn('Covariance of the parameters could not be estimated',\n"
     ]
    },
    {
     "data": {
      "text/plain": [
       "[<matplotlib.lines.Line2D at 0x7fce5279b190>]"
      ]
     },
     "execution_count": 313,
     "metadata": {},
     "output_type": "execute_result"
    },
    {
     "data": {
      "image/png": "[encoded data removed]",
      "text/plain": [
       "<Figure size 640x480 with 1 Axes>"
      ]
     },
     "metadata": {},
     "output_type": "display_data"
    }
   ],
   "source": [
    "p0 = [-dall.volume_m3.max(), 1, dall.volume_m3.max(),1,1]\n",
    "fittedParameters, pcov = curve_fit(func, dall.simulation_year.values, dall.volume_m3.values, p0 = p0)\n",
    "t = np.arange(0,5001,1)\n",
    "d_fit_volume_m3 = func(t, *fittedParameters) \n",
    "\n",
    "plt.plot(dall.volume_m3)\n",
    "\n",
    "plt.plot(t,d_fit_volume_m3)"
   ]
  },
  {
   "cell_type": "code",
   "execution_count": 294,
   "id": "70f27c47",
   "metadata": {},
   "outputs": [
    {
     "name": "stdout",
     "output_type": "stream",
     "text": [
      "[-2.25290996e+12  1.32947258e-02  6.59375456e+12  7.45563511e-01\n",
      "  1.38590735e+00]\n"
     ]
    },
    {
     "name": "stderr",
     "output_type": "stream",
     "text": [
      "/home/users/lschuster/.local/lib/python3.10/site-packages/scipy/optimize/_minpack_py.py:881: OptimizeWarning: Covariance of the parameters could not be estimated\n",
      "  warnings.warn('Covariance of the parameters could not be estimated',\n"
     ]
    },
    {
     "data": {
      "text/plain": [
       "[<matplotlib.lines.Line2D at 0x7fce52025bd0>]"
      ]
     },
     "execution_count": 294,
     "metadata": {},
     "output_type": "execute_result"
    },
    {
     "data": {
      "image/png": "[encoded data removed]",
      "text/plain": [
       "<Figure size 640x480 with 1 Axes>"
      ]
     },
     "metadata": {},
     "output_type": "display_data"
    }
   ],
   "source": [
    "\n",
    "\n",
    "print(fittedParameters)\n",
    "#absError = modelPredictions - yData\n",
    "\n",
    "#SE = numpy.square(absError) # squared errors\n",
    "#MSE = numpy.mean(SE) # mean squared errors\n",
    "#RMSE = numpy.sqrt(MSE) # Root Mean Squared Error, RMSE\n",
    "#Rsquared = 1.0 - (numpy.var(absError) / numpy.var(yData))\n",
    "\n",
    "t = np.arange(0,5001,1)\n",
    "modelPredictions = func(t, *fittedParameters) \n",
    "plt.plot(dall.simulation_year, )\n",
    "plt.plot(t,modelPredictions)\n",
    "\n",
    "plt.plot(t, ds_reg_models_extend.volume_m3.sel(model_author='OGGM_v16').sel(rgi_reg='13').isel(gcm=0).isel(period_scenario=0), alpha = 0.3)"
   ]
  },
  {
   "cell_type": "code",
   "execution_count": 259,
   "id": "087b6c00",
   "metadata": {},
   "outputs": [
    {
     "data": {
      "text/plain": [
       "[<matplotlib.lines.Line2D at 0x7fce54bec940>]"
      ]
     },
     "execution_count": 259,
     "metadata": {},
     "output_type": "execute_result"
    },
    {
     "data": {
      "image/png": "[encoded data removed]",
      "text/plain": [
       "<Figure size 640x480 with 1 Axes>"
      ]
     },
     "metadata": {},
     "output_type": "display_data"
    }
   ],
   "source": []
  },
  {
   "cell_type": "code",
   "execution_count": null,
   "id": "afe9c0ce-47d5-489c-a434-ef27772698f3",
   "metadata": {},
   "outputs": [],
   "source": []
  },
  {
   "cell_type": "code",
   "execution_count": null,
   "id": "7f608b8b",
   "metadata": {},
   "outputs": [],
   "source": []
  }
 ],
 "metadata": {
  "kernelspec": {
   "display_name": "Python [conda env:oggm_gmip3_working]",
   "language": "python",
   "name": "conda-env-oggm_gmip3_working-py"
  },
  "language_info": {
   "codemirror_mode": {
    "name": "ipython",
    "version": 3
   },
   "file_extension": ".py",
   "mimetype": "text/x-python",
   "name": "python",
   "nbconvert_exporter": "python",
   "pygments_lexer": "ipython3",
   "version": "3.10.14"
  }
 },
 "nbformat": 4,
 "nbformat_minor": 5
}
