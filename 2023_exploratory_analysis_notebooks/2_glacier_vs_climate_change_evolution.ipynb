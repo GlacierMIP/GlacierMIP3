{
 "cells": [
  {
   "cell_type": "markdown",
   "id": "1afe589a-7fec-4647-a5a3-feede726369e",
   "metadata": {},
   "source": [
    "# 2 : show glacier evolution dependent on the applied climate change"
   ]
  },
  {
   "cell_type": "code",
   "execution_count": 1,
   "id": "4a5b4737-46a9-4699-8047-21d8f780f514",
   "metadata": {},
   "outputs": [],
   "source": [
    "# download it here https://cluster.klima.uni-bremen.de/~lschuster/glacierMIP3_analysis/glacierMIP3_mar14_models_all_rgi_regions_sum_scaled.nc\n",
    "# and change the path to your local path\n",
    "path_merged_runs_scaled = '/home/www/lschuster/glacierMIP3_analysis/glacierMIP3_mar14_models_all_rgi_regions_sum_scaled.nc'"
   ]
  },
  {
   "cell_type": "code",
   "execution_count": 2,
   "id": "3f122ad2-25b4-4e4c-8f9b-251213115fe5",
   "metadata": {},
   "outputs": [],
   "source": [
    "import xarray as xr\n",
    "import numpy as np\n",
    "import pandas as pd\n",
    "import os\n",
    "import glob\n",
    "import matplotlib.pyplot as plt\n",
    "from datetime import date\n",
    "import geopandas as gpd\n",
    "import matplotlib.pyplot as plt\n",
    "import seaborn as sns\n",
    "from help_func import pal_models, model_order, d_reg_num_name\n",
    "hue_order = model_order\n",
    "ds_reg_models = xr.open_dataset(path_merged_runs_scaled)"
   ]
  },
  {
   "cell_type": "markdown",
   "id": "c02d7961-e281-4433-aae9-f58d55fc7529",
   "metadata": {},
   "source": [
    "IDEAS:\n",
    "- for every region, all 80 experiments as lines dependent on the warming scenario (blue to red), either with global warming or regional warming "
   ]
  },
  {
   "cell_type": "code",
   "execution_count": null,
   "id": "98d2c17b-56c6-4586-a6a3-df88ae9cd043",
   "metadata": {},
   "outputs": [],
   "source": []
  },
  {
   "cell_type": "code",
   "execution_count": null,
   "id": "70f8eeab-d2e7-43c7-a868-1371e7ab75bb",
   "metadata": {},
   "outputs": [],
   "source": []
  },
  {
   "cell_type": "markdown",
   "id": "6a7e892b-0e2d-4b49-9b40-72603de964cf",
   "metadata": {},
   "source": [
    "### Random code..."
   ]
  },
  {
   "cell_type": "code",
   "execution_count": null,
   "id": "fde85501-96b0-4645-bb38-655678e78e0a",
   "metadata": {},
   "outputs": [],
   "source": [
    "pd_global_temp_exp_gcm = pd_global_temp_exp.loc[pd_global_temp_exp.gcm =='gfdl-esm4']\n",
    "\n",
    "pd_global_temp_exp_gcm.index = pd_global_temp_exp_gcm.period_scenario\n",
    "\n",
    "ds_reg_models_med_v_glob = ds_reg_models_med_v.sum(dim='rgi_reg')\n",
    "\n",
    "# this is really unefficient\n",
    "ds_reg_models_med_v_glob.to_dataframe().reset_index().pivot_table(values = 'volume_m3', index=)"
   ]
  },
  {
   "cell_type": "code",
   "execution_count": 4,
   "id": "36acba9c-8b96-42d9-9d4e-65043d467230",
   "metadata": {},
   "outputs": [
    {
     "data": {
      "text/html": [
       "<div>\n",
       "<style scoped>\n",
       "    .dataframe tbody tr th:only-of-type {\n",
       "        vertical-align: middle;\n",
       "    }\n",
       "\n",
       "    .dataframe tbody tr th {\n",
       "        vertical-align: top;\n",
       "    }\n",
       "\n",
       "    .dataframe thead th {\n",
       "        text-align: right;\n",
       "    }\n",
       "</style>\n",
       "<table border=\"1\" class=\"dataframe\">\n",
       "  <thead>\n",
       "    <tr style=\"text-align: right;\">\n",
       "      <th></th>\n",
       "      <th>gcm</th>\n",
       "      <th>period_scenario</th>\n",
       "      <th>temp_ch_ipcc</th>\n",
       "    </tr>\n",
       "  </thead>\n",
       "  <tbody>\n",
       "    <tr>\n",
       "      <th>0</th>\n",
       "      <td>gfdl-esm4</td>\n",
       "      <td>1851-1870_hist</td>\n",
       "      <td>0.171409</td>\n",
       "    </tr>\n",
       "    <tr>\n",
       "      <th>1</th>\n",
       "      <td>gfdl-esm4</td>\n",
       "      <td>1901-1920_hist</td>\n",
       "      <td>0.418289</td>\n",
       "    </tr>\n",
       "    <tr>\n",
       "      <th>2</th>\n",
       "      <td>gfdl-esm4</td>\n",
       "      <td>1951-1970_hist</td>\n",
       "      <td>0.332281</td>\n",
       "    </tr>\n",
       "    <tr>\n",
       "      <th>3</th>\n",
       "      <td>gfdl-esm4</td>\n",
       "      <td>1995-2014_hist</td>\n",
       "      <td>0.841467</td>\n",
       "    </tr>\n",
       "    <tr>\n",
       "      <th>4</th>\n",
       "      <td>gfdl-esm4</td>\n",
       "      <td>2021-2040_ssp126</td>\n",
       "      <td>1.433792</td>\n",
       "    </tr>\n",
       "    <tr>\n",
       "      <th>...</th>\n",
       "      <td>...</td>\n",
       "      <td>...</td>\n",
       "      <td>...</td>\n",
       "    </tr>\n",
       "    <tr>\n",
       "      <th>75</th>\n",
       "      <td>ukesm1-0-ll</td>\n",
       "      <td>2081-2100_ssp370</td>\n",
       "      <td>5.780495</td>\n",
       "    </tr>\n",
       "    <tr>\n",
       "      <th>76</th>\n",
       "      <td>ukesm1-0-ll</td>\n",
       "      <td>2021-2040_ssp585</td>\n",
       "      <td>2.259733</td>\n",
       "    </tr>\n",
       "    <tr>\n",
       "      <th>77</th>\n",
       "      <td>ukesm1-0-ll</td>\n",
       "      <td>2041-2060_ssp585</td>\n",
       "      <td>3.586968</td>\n",
       "    </tr>\n",
       "    <tr>\n",
       "      <th>78</th>\n",
       "      <td>ukesm1-0-ll</td>\n",
       "      <td>2061-2080_ssp585</td>\n",
       "      <td>5.170544</td>\n",
       "    </tr>\n",
       "    <tr>\n",
       "      <th>79</th>\n",
       "      <td>ukesm1-0-ll</td>\n",
       "      <td>2081-2100_ssp585</td>\n",
       "      <td>6.824361</td>\n",
       "    </tr>\n",
       "  </tbody>\n",
       "</table>\n",
       "<p>80 rows × 3 columns</p>\n",
       "</div>"
      ],
      "text/plain": [
       "            gcm   period_scenario  temp_ch_ipcc\n",
       "0     gfdl-esm4    1851-1870_hist      0.171409\n",
       "1     gfdl-esm4    1901-1920_hist      0.418289\n",
       "2     gfdl-esm4    1951-1970_hist      0.332281\n",
       "3     gfdl-esm4    1995-2014_hist      0.841467\n",
       "4     gfdl-esm4  2021-2040_ssp126      1.433792\n",
       "..          ...               ...           ...\n",
       "75  ukesm1-0-ll  2081-2100_ssp370      5.780495\n",
       "76  ukesm1-0-ll  2021-2040_ssp585      2.259733\n",
       "77  ukesm1-0-ll  2041-2060_ssp585      3.586968\n",
       "78  ukesm1-0-ll  2061-2080_ssp585      5.170544\n",
       "79  ukesm1-0-ll  2081-2100_ssp585      6.824361\n",
       "\n",
       "[80 rows x 3 columns]"
      ]
     },
     "execution_count": 4,
     "metadata": {},
     "output_type": "execute_result"
    }
   ],
   "source": [
    "# --> comes from isimip3b_postprocessing_analysis/isimip3b_postprocess_to_monthly.ipynb\n",
    "pd_global_temp_exp = pd.read_csv('../data/temp_ch_ipcc_isimip3b.csv', index_col = 0)\n",
    "\n",
    "pd_reg_models_med_v_glob =  ds_reg_models_med_v.sum(dim='rgi_reg').to_dataframe().reset_index().groupby(['period_scenario', 'simulation_year', 'gcm']).sum().reset_index()\n",
    "\n",
    "pd_v_l = []\n",
    "for gcm in ds_reg_models.gcm:\n",
    "    pd_global_temp_exp_gcm = pd_global_temp_exp.loc[pd_global_temp_exp.gcm == 'gcm']\n",
    "    ds_reg_models_med_v = ds_reg_models.volume_m3.median(dim='model_author').sel(gcm=gcm).sum(dim='rgi_reg')\n",
    "\n",
    "    ds_reg_models_med_v = ds_reg_models_med_v.assign_coords(temp_ch_ipcc = ('period_ssp',\n",
    "                                                                            pd_global_temp_exp_gcm.loc[pd_reg_models_med_v_glob.period_scenario, 'temp_ch_ipcc'].values))\n",
    "    \n",
    "    pd_v = ds_reg_models_med_v.to_dataframe().reset_index()\n",
    "    pd_v['gcm'] = gcm.values\n",
    "    pd_v_l.append(pd_v)\n",
    "pd_glob_models_med_v = pd.concat(pd_v_l)\n",
    "\n",
    "ds = pd_glob_models_med_v.groupby(['simulation_year','period_scenario', 'gcm']).mean().to_xarray()\n",
    "\n",
    "d2000 = pd_glob_models_med_v.loc[pd_glob_models_med_v.simulation_year == 2000]"
   ]
  },
  {
   "cell_type": "code",
   "execution_count": null,
   "id": "9fbd8cde-7fa8-49e8-b9f3-35df7068ca77",
   "metadata": {},
   "outputs": [],
   "source": [
    "plt.plot(ds_reg_models_med_v.simulation_year, ds_reg_models_med_v.volume_m3.sum(dim='rgi_reg'));"
   ]
  },
  {
   "cell_type": "code",
   "execution_count": null,
   "id": "2f63113c-c9e7-4579-9c33-a583bd34540b",
   "metadata": {},
   "outputs": [],
   "source": [
    "\n",
    "sns.scatterplot(data = pd_glob_models_med_v, x = 'simulation_year', hue='temp_ch_ipcc',\n",
    "             y='volume_m3', palette='viridis');\n",
    "\n",
    "\n",
    "sns.lineplot(data = d2000, x = 'temp_ch_ipcc',\n",
    "             y='volume_m3', palette='viridis');"
   ]
  }
 ],
 "metadata": {
  "kernelspec": {
   "display_name": "Python 3 (ipykernel)",
   "language": "python",
   "name": "python3"
  },
  "language_info": {
   "codemirror_mode": {
    "name": "ipython",
    "version": 3
   },
   "file_extension": ".py",
   "mimetype": "text/x-python",
   "name": "python",
   "nbconvert_exporter": "python",
   "pygments_lexer": "ipython3",
   "version": "3.10.8"
  }
 },
 "nbformat": 4,
 "nbformat_minor": 5
}
