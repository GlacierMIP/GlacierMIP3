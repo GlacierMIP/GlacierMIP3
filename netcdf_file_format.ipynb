{
 "cells": [
  {
   "cell_type": "markdown",
   "metadata": {},
   "source": [
    "# Generate GlacierMIP3 netcdf files for submission "
   ]
  },
  {
   "cell_type": "markdown",
   "metadata": {},
   "source": [
    "## Introduction "
   ]
  },
  {
   "cell_type": "markdown",
   "metadata": {},
   "source": [
    "## File naming convention "
   ]
  },
  {
   "cell_type": "markdown",
   "metadata": {},
   "source": [
    "`{contributor}_{rgi-region}_{aggregation-level}_{period}_{gcm}_{ssp}.nc`\n",
    "\n",
    "All characters should be **lower case**, excepted the `{contributor}` entry for which you can choose the case. Underscores are forbidden in all brackets entries `{}` to avoid confusion.\n",
    "- {contributor}: model or contributor name, in case more than one model configuration make it explicit (e.g. `OGGM-dyn`, `OGGM-vas`)\n",
    "- {rgi-region}: for example `rgi09`\n",
    "- {aggregation-level}: either `sum` (regional totals) or `glaciers` (individual glaciers)\n",
    "- {period}: shuffled reference period (example: `1901-1920`)\n",
    "- {gcm}: name of used gcm\n",
    "- {ssp}: name of used ssp or `hist`\n",
    "\n",
    "**Examples**:\n",
    "- `Zekollari_rgi08_sum_2061-2080_ipsl-cm6a-lr_ssp585.nc`\n",
    "- `OGGM-dyn_rgi11_glaciers_1901-1920_ipsl-cm6a-lr_hist.nc`"
   ]
  },
  {
   "cell_type": "markdown",
   "metadata": {},
   "source": [
    "## File format "
   ]
  },
  {
   "cell_type": "markdown",
   "metadata": {},
   "source": [
    "[Netcdf](https://www.unidata.ucar.edu/software/netcdf/) files are very common in the Earth Sciences, and should be writable by any scientific programming language. Here we shortly describe the format of the file followed by a code sample in python and in MATLAB."
   ]
  },
  {
   "cell_type": "code",
   "execution_count": 1,
   "metadata": {},
   "outputs": [],
   "source": [
    "import os\n",
    "from datetime import date\n",
    "import numpy as np\n",
    "import xarray as xr"
   ]
  },
  {
   "cell_type": "markdown",
   "metadata": {},
   "source": [
    "### Regional sums"
   ]
  },
  {
   "cell_type": "code",
   "execution_count": 2,
   "metadata": {},
   "outputs": [
    {
     "name": "stdout",
     "output_type": "stream",
     "text": [
      "xarray.Dataset {\n",
      "dimensions:\n",
      "\tsimulation_year = 1001 ;\n",
      "\n",
      "variables:\n",
      "\tint16 simulation_year(simulation_year) ;\n",
      "\tfloat32 volume_m3(simulation_year) ;\n",
      "\t\tvolume_m3:units = m3 ;\n",
      "\t\tvolume_m3:long_name = Regional glacier volume at timestamp ;\n",
      "\tfloat32 area_m2(simulation_year) ;\n",
      "\t\tarea_m2:units = m2 ;\n",
      "\t\tarea_m2:long_name = Regional glacier area at timestamp ;\n",
      "\n",
      "// global attributes:\n",
      "\t:contributor = Zekollari ;\n",
      "\t:contributor_email = bli.bla@blo.be ;\n",
      "\t:creation_date = 21/06/2021 ;\n",
      "\t:rgi-region = rgi08 ;\n",
      "\t:aggregation-level = sum ;\n",
      "\t:period = 2061-2080 ;\n",
      "\t:gcm = ipsl-cm6a-lr ;\n",
      "\t:ssp = ssp585 ;\n",
      "\t:information = Anything you find useful here ;\n",
      "}"
     ]
    }
   ],
   "source": [
    "filename = 'Zekollari_rgi08_sum_2061-2080_ipsl-cm6a-lr_ssp585.nc'\n",
    "with xr.open_dataset(os.path.join('templates', filename)) as ds:\n",
    "    ds = ds.load()\n",
    "ds.info()"
   ]
  },
  {
   "cell_type": "markdown",
   "metadata": {},
   "source": [
    "### Glacier per glacier"
   ]
  },
  {
   "cell_type": "code",
   "execution_count": 3,
   "metadata": {},
   "outputs": [
    {
     "name": "stdout",
     "output_type": "stream",
     "text": [
      "xarray.Dataset {\n",
      "dimensions:\n",
      "\trgi_id = 3 ;\n",
      "\tsimulation_year = 1001 ;\n",
      "\n",
      "variables:\n",
      "\tint16 simulation_year(simulation_year) ;\n",
      "\tobject rgi_id(rgi_id) ;\n",
      "\tfloat32 volume_m3(simulation_year, rgi_id) ;\n",
      "\t\tvolume_m3:units = m3 ;\n",
      "\t\tvolume_m3:long_name = Regional glacier volume at timestamp ;\n",
      "\tfloat32 area_m2(simulation_year, rgi_id) ;\n",
      "\t\tarea_m2:units = m2 ;\n",
      "\t\tarea_m2:long_name = Regional glacier area at timestamp ;\n",
      "\n",
      "// global attributes:\n",
      "\t:contributor = OGGM-dyn ;\n",
      "\t:contributor_email = bli.bla@blo.be ;\n",
      "\t:creation_date = 21/06/2021 ;\n",
      "\t:rgi-region = rgi11 ;\n",
      "\t:aggregation-level = glaciers ;\n",
      "\t:period = 1901-1920 ;\n",
      "\t:gcm = ipsl-cm6a-lr ;\n",
      "\t:ssp = hist ;\n",
      "\t:information = Anything you find useful here ;\n",
      "}"
     ]
    }
   ],
   "source": [
    "filename = 'OGGM-dyn_rgi11_glaciers_1901-1920_ipsl-cm6a-lr_hist.nc'\n",
    "with xr.open_dataset(os.path.join('templates', filename)) as ds:\n",
    "    ds = ds.load()\n",
    "ds.info()"
   ]
  },
  {
   "cell_type": "markdown",
   "metadata": {},
   "source": [
    "## Writing GlacierMIP3 NetCDF files with python and xarray"
   ]
  },
  {
   "cell_type": "markdown",
   "metadata": {},
   "source": [
    "Prerequisite: you need to have the [netcdf4-python](http://unidata.github.io/netcdf4-python/) and [xarray](http://xarray.pydata.org) packagea installed for this to work."
   ]
  },
  {
   "cell_type": "markdown",
   "metadata": {},
   "source": [
    "### Regional sums "
   ]
  },
  {
   "cell_type": "markdown",
   "metadata": {},
   "source": [
    "We create the `Zekollari_rgi08_sum_2061-2080_ipsl-cm6a-lr_ssp585.nc` file:"
   ]
  },
  {
   "cell_type": "code",
   "execution_count": 4,
   "metadata": {},
   "outputs": [],
   "source": [
    "# Run info\n",
    "contributor = 'Zekollari'\n",
    "rgi_reg = 'rgi08'\n",
    "agg_level = 'sum'\n",
    "period = '2061-2080'\n",
    "gcm = 'ipsl-cm6a-lr'\n",
    "ssp = 'ssp585'"
   ]
  },
  {
   "cell_type": "code",
   "execution_count": 5,
   "metadata": {},
   "outputs": [
    {
     "data": {
      "text/plain": [
       "'Zekollari_rgi08_sum_2061-2080_ipsl-cm6a-lr_ssp585.nc'"
      ]
     },
     "execution_count": 5,
     "metadata": {},
     "output_type": "execute_result"
    }
   ],
   "source": [
    "filename = f'{contributor}_{rgi_reg}_{agg_level}_{period}_{gcm}_{ssp}.nc'\n",
    "filename"
   ]
  },
  {
   "cell_type": "code",
   "execution_count": 6,
   "metadata": {},
   "outputs": [],
   "source": [
    "# Fake data and time arrays\n",
    "time = np.arange(1001)\n",
    "volume = 1 / np.linspace(0.1, 1, 1001)**2\n",
    "area = 1 / np.linspace(0.1, 1, 1001)"
   ]
  },
  {
   "cell_type": "code",
   "execution_count": 7,
   "metadata": {
    "tags": []
   },
   "outputs": [],
   "source": [
    "ds = xr.Dataset()\n",
    "\n",
    "ds.attrs['contributor'] = contributor\n",
    "ds.attrs['contributor_email'] = 'bli.bla@blo.be'\n",
    "ds.attrs['creation_date'] = date.today().strftime(\"%d/%m/%Y\")\n",
    "ds.attrs['rgi-region'] = rgi_reg\n",
    "ds.attrs['aggregation-level'] = agg_level\n",
    "ds.attrs['period'] = period\n",
    "ds.attrs['gcm'] = gcm\n",
    "ds.attrs['ssp'] = ssp\n",
    "ds.attrs['information'] = 'Anything you find useful here'\n",
    "\n",
    "ds['simulation_year'] = (('simulation_year'), time)\n",
    "\n",
    "varname = 'volume_m3'\n",
    "ds[varname] = (('simulation_year'), volume)\n",
    "ds[varname].attrs['units'] = 'm3'\n",
    "ds[varname].attrs['long_name'] = 'Regional glacier volume at timestamp'\n",
    "\n",
    "varname = 'area_m2'\n",
    "ds[varname] = (('simulation_year'), area)\n",
    "ds[varname].attrs['units'] = 'm2'\n",
    "ds[varname].attrs['long_name'] = 'Regional glacier area at timestamp'\n",
    "\n",
    "# This is the same for all files\n",
    "encoding = {\n",
    "    'simulation_year': {\"dtype\": \"int16\"},\n",
    "    'volume_m3': {\"dtype\": \"float32\"},\n",
    "    'area_m2': {\"dtype\": \"float32\"},\n",
    "}\n",
    "\n",
    "ds.to_netcdf(os.path.join('templates', filename), encoding=encoding)"
   ]
  },
  {
   "cell_type": "code",
   "execution_count": 8,
   "metadata": {},
   "outputs": [
    {
     "data": {
      "image/png": "[encoded data removed]",
      "text/plain": [
       "<Figure size 432x288 with 1 Axes>"
      ]
     },
     "metadata": {
      "needs_background": "light"
     },
     "output_type": "display_data"
    }
   ],
   "source": [
    "ds.volume_m3.plot();"
   ]
  },
  {
   "cell_type": "code",
   "execution_count": 9,
   "metadata": {},
   "outputs": [
    {
     "data": {
      "image/png": "[encoded data removed]",
      "text/plain": [
       "<Figure size 432x288 with 1 Axes>"
      ]
     },
     "metadata": {
      "needs_background": "light"
     },
     "output_type": "display_data"
    }
   ],
   "source": [
    "ds.area_m2.plot();"
   ]
  },
  {
   "cell_type": "markdown",
   "metadata": {},
   "source": [
    "### Glacier per glacier"
   ]
  },
  {
   "cell_type": "markdown",
   "metadata": {},
   "source": [
    "This is very similar, but with one more dimension.\n",
    "\n",
    "We create the `OGGM-dyn_rgi11_glaciers_1901-1920_ipsl-cm6a-lr_hist.nc` file:"
   ]
  },
  {
   "cell_type": "code",
   "execution_count": 10,
   "metadata": {},
   "outputs": [],
   "source": [
    "# Run info\n",
    "contributor = 'OGGM-dyn'\n",
    "rgi_reg = 'rgi11'\n",
    "agg_level = 'glaciers'\n",
    "period = '1901-1920'\n",
    "gcm = 'ipsl-cm6a-lr'\n",
    "ssp = 'hist'"
   ]
  },
  {
   "cell_type": "code",
   "execution_count": 11,
   "metadata": {},
   "outputs": [
    {
     "data": {
      "text/plain": [
       "'OGGM-dyn_rgi11_glaciers_1901-1920_ipsl-cm6a-lr_hist.nc'"
      ]
     },
     "execution_count": 11,
     "metadata": {},
     "output_type": "execute_result"
    }
   ],
   "source": [
    "filename = f'{contributor}_{rgi_reg}_{agg_level}_{period}_{gcm}_{ssp}.nc'\n",
    "filename"
   ]
  },
  {
   "cell_type": "code",
   "execution_count": 12,
   "metadata": {},
   "outputs": [],
   "source": [
    "# Fake data and time arrays\n",
    "time = np.arange(1001)\n",
    "volume = np.array([1 / np.linspace(0.1, 1, 1001)**x for x in [2, 3, 4]]).T\n",
    "area = np.sqrt(volume) \n",
    "rgi_id = ['RGI60-11.00897', 'RGI60-11.00898', 'RGI60-11.00899']"
   ]
  },
  {
   "cell_type": "code",
   "execution_count": 13,
   "metadata": {
    "tags": []
   },
   "outputs": [],
   "source": [
    "ds = xr.Dataset()\n",
    "\n",
    "ds.attrs['contributor'] = contributor\n",
    "ds.attrs['contributor_email'] = 'bli.bla@blo.be'\n",
    "ds.attrs['creation_date'] = date.today().strftime(\"%d/%m/%Y\")\n",
    "ds.attrs['rgi-region'] = rgi_reg\n",
    "ds.attrs['aggregation-level'] = agg_level\n",
    "ds.attrs['period'] = period\n",
    "ds.attrs['gcm'] = gcm\n",
    "ds.attrs['ssp'] = ssp\n",
    "ds.attrs['information'] = 'Anything you find useful here'\n",
    "\n",
    "ds['simulation_year'] = (('simulation_year'), time)\n",
    "ds['rgi_id'] = (('rgi_id'), rgi_id)\n",
    "\n",
    "varname = 'volume_m3'\n",
    "ds[varname] = (('simulation_year', 'rgi_id'), volume)\n",
    "ds[varname].attrs['units'] = 'm3'\n",
    "ds[varname].attrs['long_name'] = 'Regional glacier volume at timestamp'\n",
    "\n",
    "varname = 'area_m2'\n",
    "ds[varname] = (('simulation_year', 'rgi_id'), area)\n",
    "ds[varname].attrs['units'] = 'm2'\n",
    "ds[varname].attrs['long_name'] = 'Regional glacier area at timestamp'\n",
    "\n",
    "# This is the same for all files\n",
    "encoding = {\n",
    "    'simulation_year': {\"dtype\": \"int16\"},\n",
    "    'volume_m3': {\"dtype\": \"float32\"},\n",
    "    'area_m2': {\"dtype\": \"float32\"},\n",
    "}\n",
    "\n",
    "ds.to_netcdf(os.path.join('templates', filename), encoding=encoding)"
   ]
  },
  {
   "cell_type": "code",
   "execution_count": 14,
   "metadata": {},
   "outputs": [
    {
     "data": {
      "image/png": "[encoded data removed]",
      "text/plain": [
       "<Figure size 432x288 with 1 Axes>"
      ]
     },
     "metadata": {
      "needs_background": "light"
     },
     "output_type": "display_data"
    }
   ],
   "source": [
    "ds.volume_m3.plot(hue='rgi_id');"
   ]
  },
  {
   "cell_type": "code",
   "execution_count": 15,
   "metadata": {},
   "outputs": [
    {
     "data": {
      "image/png": "[encoded data removed]",
      "text/plain": [
       "<Figure size 432x288 with 1 Axes>"
      ]
     },
     "metadata": {
      "needs_background": "light"
     },
     "output_type": "display_data"
    }
   ],
   "source": [
    "ds.area_m2.plot(hue='rgi_id');"
   ]
  },
  {
   "cell_type": "markdown",
   "metadata": {},
   "source": [
    "## Writing GlacierMIP3 NetCDF files with MATLAB"
   ]
  },
  {
   "cell_type": "markdown",
   "metadata": {},
   "source": [
    "TODO "
   ]
  }
 ],
 "metadata": {
  "kernelspec": {
   "display_name": "Python 3",
   "language": "python",
   "name": "python3"
  },
  "language_info": {
   "codemirror_mode": {
    "name": "ipython",
    "version": 3
   },
   "file_extension": ".py",
   "mimetype": "text/x-python",
   "name": "python",
   "nbconvert_exporter": "python",
   "pygments_lexer": "ipython3",
   "version": "3.8.5"
  }
 },
 "nbformat": 4,
 "nbformat_minor": 4
}
